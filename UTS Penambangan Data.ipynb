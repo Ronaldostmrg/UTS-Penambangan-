{
 "cells": [
  {
   "cell_type": "markdown",
   "id": "6734bf41",
   "metadata": {},
   "source": [
    "1.A"
   ]
  },
  {
   "cell_type": "code",
   "execution_count": 12,
   "id": "425f7051",
   "metadata": {},
   "outputs": [
    {
     "name": "stdout",
     "output_type": "stream",
     "text": [
      "   PassengerId  Survived  Pclass  \\\n",
      "0            1         0       3   \n",
      "1            2         1       1   \n",
      "2            3         1       3   \n",
      "3            4         1       1   \n",
      "4            5         0       3   \n",
      "\n",
      "                                                Name     Sex   Age  SibSp  \\\n",
      "0                            Braund, Mr. Owen Harris    male  22.0      1   \n",
      "1  Cumings, Mrs. John Bradley (Florence Briggs Th...  female  38.0      1   \n",
      "2                             Heikkinen, Miss. Laina  female  26.0      0   \n",
      "3       Futrelle, Mrs. Jacques Heath (Lily May Peel)  female  35.0      1   \n",
      "4                           Allen, Mr. William Henry    male  35.0      0   \n",
      "\n",
      "   Parch            Ticket     Fare Cabin Embarked  \n",
      "0      0         A/5 21171   7.2500   NaN        S  \n",
      "1      0          PC 17599  71.2833   C85        C  \n",
      "2      0  STON/O2. 3101282   7.9250   NaN        S  \n",
      "3      0            113803  53.1000  C123        S  \n",
      "4      0            373450   8.0500   NaN        S  \n",
      "Jumlah total penumpang dalam data adalah: 891\n"
     ]
    }
   ],
   "source": [
    "import pandas as pd\n",
    "import numpy as np\n",
    "import matplotlib.pyplot as plt\n",
    "import seaborn as sns\n",
    "from sklearn.model_selection import train_test_split, GridSearchCV\n",
    "from sklearn.linear_model import LogisticRegression\n",
    "from sklearn.metrics import classification_report, accuracy_score, confusion_matrix\n",
    "import joblib\n",
    "from sklearn.neighbors import KNeighborsClassifier, KNeighborsRegressor\n",
    "from sklearn.decomposition import PCA\n",
    "from sklearn.neural_network import MLPClassifier\n",
    "df = pd.read_csv(\"Titanic-Dataset.csv\")\n",
    "print(df.head())\n",
    "\n",
    "# Menghitung jumlah total penumpang\n",
    "total_penumpang = df.shape[0]\n",
    "print(\"Jumlah total penumpang dalam data adalah:\", total_penumpang)\n",
    "\n",
    "\n"
   ]
  },
  {
   "cell_type": "markdown",
   "id": "f2e0d858",
   "metadata": {},
   "source": [
    "1.B"
   ]
  },
  {
   "cell_type": "code",
   "execution_count": null,
   "id": "38da6adf",
   "metadata": {},
   "outputs": [
    {
     "name": "stdout",
     "output_type": "stream",
     "text": [
      "          Status  Jumlah\n",
      "0  Tidak Selamat     549\n",
      "1        Selamat     342\n"
     ]
    },
    {
     "data": {
      "image/png": "[encoded data removed]",
      "text/plain": [
       "<Figure size 600x400 with 1 Axes>"
      ]
     },
     "metadata": {},
     "output_type": "display_data"
    }
   ],
   "source": [
    "import pandas as pd\n",
    "import matplotlib.pyplot as plt\n",
    "df = pd.read_csv(\"Titanic-Dataset.csv\")\n",
    "\n",
    "# Menghitung jumlah yang selamat dan tidak selamat\n",
    "survival_counts = df['Survived'].value_counts().rename(index={0: 'Tidak Selamat', 1: 'Selamat'})\n",
    "\n",
    "# Menampilkan dalam bentuk tabel\n",
    "survival_counts_df = survival_counts.reset_index()\n",
    "survival_counts_df.columns = ['Status', 'Jumlah']\n",
    "print(survival_counts_df)\n",
    "\n",
    "# Menampilkan grafik batang\n",
    "plt.figure(figsize=(6, 4))\n",
    "survival_counts.plot(kind='bar', color=['salmon', 'skyblue'])\n",
    "plt.title('Jumlah Penumpang Selamat vs Tidak Selamat')\n",
    "plt.ylabel('Jumlah')\n",
    "plt.xlabel('Status')\n",
    "plt.xticks(rotation=0)\n",
    "plt.grid(axis='y', linestyle='--', alpha=0.7)\n",
    "plt.tight_layout()\n",
    "plt.show()\n"
   ]
  },
  {
   "cell_type": "markdown",
   "id": "cdc7cb3d",
   "metadata": {},
   "source": [
    "1.C"
   ]
  },
  {
   "cell_type": "code",
   "execution_count": 4,
   "id": "f42e038c",
   "metadata": {},
   "outputs": [
    {
     "name": "stdout",
     "output_type": "stream",
     "text": [
      "Rata-rata umur penumpang: 29.70 tahun\n",
      "\n",
      "Penumpang termuda:\n",
      "                                Name   Age\n",
      "803  Thomas, Master. Assad Alexander  0.42\n",
      "\n",
      "Penumpang tertua:\n",
      "                                     Name   Age\n",
      "630  Barkworth, Mr. Algernon Henry Wilson  80.0\n"
     ]
    }
   ],
   "source": [
    "import pandas as pd\n",
    "df = pd.read_csv(\"Titanic-Dataset.csv\")\n",
    "\n",
    "# Menghitung rata-rata umur (mengabaikan NaN)\n",
    "rata_rata_umur = df['Age'].mean()\n",
    "print(f\"Rata-rata umur penumpang: {rata_rata_umur:.2f} tahun\")\n",
    "\n",
    "# penumpang termuda\n",
    "termuda = df[df['Age'] == df['Age'].min()][['Name', 'Age']]\n",
    "print(\"\\nPenumpang termuda:\")\n",
    "print(termuda)\n",
    "\n",
    "# penumpang tertua\n",
    "tertua = df[df['Age'] == df['Age'].max()][['Name', 'Age']]\n",
    "print(\"\\nPenumpang tertua:\")\n",
    "print(tertua)\n"
   ]
  },
  {
   "cell_type": "markdown",
   "id": "517d403b",
   "metadata": {},
   "source": [
    "1.D"
   ]
  },
  {
   "cell_type": "code",
   "execution_count": 5,
   "id": "5b60885f",
   "metadata": {},
   "outputs": [
    {
     "name": "stdout",
     "output_type": "stream",
     "text": [
      "  Jenis Kelamin  Jumlah\n",
      "0          male     577\n",
      "1        female     314\n",
      "\n",
      "Penumpang dengan jumlah lebih banyak: male\n"
     ]
    },
    {
     "data": {
      "image/png": "[encoded data removed]",
      "text/plain": [
       "<Figure size 600x400 with 1 Axes>"
      ]
     },
     "metadata": {},
     "output_type": "display_data"
    }
   ],
   "source": [
    "import pandas as pd\n",
    "import matplotlib.pyplot as plt\n",
    "df = pd.read_csv(\"Titanic-Dataset.csv\")\n",
    "\n",
    "# jumlah penumpang berdasarkan jenis kelamin\n",
    "gender_counts = df['Sex'].value_counts()\n",
    "\n",
    "# Menampilkan tabel\n",
    "gender_counts_df = gender_counts.reset_index()\n",
    "gender_counts_df.columns = ['Jenis Kelamin', 'Jumlah']\n",
    "print(gender_counts_df)\n",
    "\n",
    "# jenis kelamin yang lebih banyak\n",
    "lebih_banyak = gender_counts.idxmax()\n",
    "print(f\"\\nPenumpang dengan jumlah lebih banyak: {lebih_banyak}\")\n",
    "\n",
    "# Visualisasi\n",
    "plt.figure(figsize=(6, 4))\n",
    "gender_counts.plot(kind='bar', color=['lightblue', 'lightcoral'])\n",
    "plt.title('Jumlah Penumpang Berdasarkan Jenis Kelamin')\n",
    "plt.xlabel('Jenis Kelamin')\n",
    "plt.ylabel('Jumlah')\n",
    "plt.xticks(rotation=0)\n",
    "plt.grid(axis='y', linestyle='--', alpha=0.7)\n",
    "plt.tight_layout()\n",
    "plt.show()\n"
   ]
  },
  {
   "cell_type": "markdown",
   "id": "8a82111c",
   "metadata": {},
   "source": [
    "1.E"
   ]
  },
  {
   "cell_type": "code",
   "execution_count": 6,
   "id": "a18af8f8",
   "metadata": {},
   "outputs": [
    {
     "name": "stdout",
     "output_type": "stream",
     "text": [
      "   Kelas  Jumlah\n",
      "0      1     216\n",
      "1      2     184\n",
      "2      3     491\n",
      "\n",
      "Persentase penumpang di kelas 1: 24.24%\n"
     ]
    },
    {
     "data": {
      "image/png": "[encoded data removed]",
      "text/plain": [
       "<Figure size 600x400 with 1 Axes>"
      ]
     },
     "metadata": {},
     "output_type": "display_data"
    }
   ],
   "source": [
    "import pandas as pd\n",
    "import matplotlib.pyplot as plt\n",
    "df = pd.read_csv(\"Titanic-Dataset.csv\")\n",
    "kelas_counts = df['Pclass'].value_counts().sort_index()\n",
    "\n",
    "# tabel penumpang berdasarkan kelas\n",
    "kelas_df = kelas_counts.reset_index()\n",
    "kelas_df.columns = ['Kelas', 'Jumlah']\n",
    "print(kelas_df)\n",
    "# persentase di kelas 1\n",
    "total_penumpang = df.shape[0]\n",
    "persen_kelas1 = (kelas_counts[1] / total_penumpang) * 100\n",
    "print(f\"\\nPersentase penumpang di kelas 1: {persen_kelas1:.2f}%\")\n",
    "\n",
    "# Visualisasi grafik batang\n",
    "plt.figure(figsize=(6, 4))\n",
    "kelas_counts.plot(kind='bar', color='mediumseagreen')\n",
    "plt.title('Jumlah Penumpang Berdasarkan Kelas')\n",
    "plt.xlabel('Kelas')\n",
    "plt.ylabel('Jumlah Penumpang')\n",
    "plt.xticks(rotation=0)\n",
    "plt.grid(axis='y', linestyle='--', alpha=0.7)\n",
    "plt.tight_layout()\n",
    "plt.show()\n"
   ]
  },
  {
   "cell_type": "markdown",
   "id": "c25bb6bb",
   "metadata": {},
   "source": [
    "2.A"
   ]
  },
  {
   "cell_type": "code",
   "execution_count": 7,
   "id": "bbfbfc06",
   "metadata": {},
   "outputs": [
    {
     "name": "stdout",
     "output_type": "stream",
     "text": [
      "Kolom dengan missing value:\n",
      "Age         177\n",
      "Cabin       687\n",
      "Embarked      2\n",
      "dtype: int64\n"
     ]
    }
   ],
   "source": [
    "import pandas as pd\n",
    "df = pd.read_csv(\"Titanic-Dataset.csv\")\n",
    "\n",
    "# Mengecek jumlah missing value di setiap kolom\n",
    "missing_values = df.isnull().sum()\n",
    "\n",
    "# Menampilkan hanya kolom yang memiliki missing value\n",
    "missing_values = missing_values[missing_values > 0]\n",
    "print(\"Kolom dengan missing value:\")\n",
    "print(missing_values)\n"
   ]
  },
  {
   "cell_type": "markdown",
   "id": "34dbbcd3",
   "metadata": {},
   "source": [
    "2.B"
   ]
  },
  {
   "cell_type": "code",
   "execution_count": 8,
   "id": "bf7116cb",
   "metadata": {},
   "outputs": [
    {
     "name": "stderr",
     "output_type": "stream",
     "text": [
      "C:\\Users\\ASUS\\AppData\\Local\\Temp\\ipykernel_13912\\1422690920.py:1: FutureWarning: A value is trying to be set on a copy of a DataFrame or Series through chained assignment using an inplace method.\n",
      "The behavior will change in pandas 3.0. This inplace method will never work because the intermediate object on which we are setting values always behaves as a copy.\n",
      "\n",
      "For example, when doing 'df[col].method(value, inplace=True)', try using 'df.method({col: value}, inplace=True)' or df[col] = df[col].method(value) instead, to perform the operation inplace on the original object.\n",
      "\n",
      "\n",
      "  df['Age'].fillna(df['Age'].mean(), inplace=True)  # rata-rata\n",
      "C:\\Users\\ASUS\\AppData\\Local\\Temp\\ipykernel_13912\\1422690920.py:3: FutureWarning: A value is trying to be set on a copy of a DataFrame or Series through chained assignment using an inplace method.\n",
      "The behavior will change in pandas 3.0. This inplace method will never work because the intermediate object on which we are setting values always behaves as a copy.\n",
      "\n",
      "For example, when doing 'df[col].method(value, inplace=True)', try using 'df.method({col: value}, inplace=True)' or df[col] = df[col].method(value) instead, to perform the operation inplace on the original object.\n",
      "\n",
      "\n",
      "  df['Age'].fillna(df['Age'].median(), inplace=True)\n"
     ]
    }
   ],
   "source": [
    "df['Age'].fillna(df['Age'].mean(), inplace=True)  # rata-rata\n",
    "# atau\n",
    "df['Age'].fillna(df['Age'].median(), inplace=True)\n"
   ]
  },
  {
   "cell_type": "markdown",
   "id": "541d21c5",
   "metadata": {},
   "source": [
    "2.C"
   ]
  },
  {
   "cell_type": "code",
   "execution_count": 11,
   "id": "c2348c58",
   "metadata": {},
   "outputs": [
    {
     "name": "stdout",
     "output_type": "stream",
     "text": [
      "Jumlah outlier di kolom Age: 11\n",
      "33     66.0\n",
      "54     65.0\n",
      "96     71.0\n",
      "116    70.5\n",
      "280    65.0\n",
      "456    65.0\n",
      "493    71.0\n",
      "630    80.0\n",
      "672    70.0\n",
      "745    70.0\n",
      "851    74.0\n",
      "Name: Age, dtype: float64\n"
     ]
    }
   ],
   "source": [
    "import pandas as pd\n",
    "df = pd.read_csv(\"Titanic-Dataset.csv\")\n",
    "# Hapus missing value \n",
    "age_data = df['Age'].dropna()\n",
    "\n",
    "# Hitung Q1 dan Q3\n",
    "Q1 = age_data.quantile(0.25)\n",
    "Q3 = age_data.quantile(0.75)\n",
    "IQR = Q3 - Q1\n",
    "\n",
    "# Tentukan batas bawah dan atas\n",
    "batas_bawah = Q1 - 1.5 * IQR\n",
    "batas_atas = Q3 + 1.5 * IQR\n",
    "\n",
    "# Deteksi outlier\n",
    "outlier_age = age_data[(age_data < batas_bawah) | (age_data > batas_atas)]\n",
    "print(\"Jumlah outlier di kolom Age:\", len(outlier_age))\n",
    "print(outlier_age)\n",
    "## outlier adalah data yang sangat berbeda atau menyimpang jauh dari nilai-nilai lainnya dalam satu set data."
   ]
  },
  {
   "cell_type": "markdown",
   "id": "9977de20",
   "metadata": {},
   "source": [
    "2.D"
   ]
  },
  {
   "cell_type": "code",
   "execution_count": 12,
   "id": "6781d580",
   "metadata": {},
   "outputs": [],
   "source": [
    "# Hapus outlier dari kolom 'Age'\n",
    "df_clean = df.copy()\n",
    "Q1 = df_clean['Age'].quantile(0.25)\n",
    "Q3 = df_clean['Age'].quantile(0.75)\n",
    "IQR = Q3 - Q1\n",
    "batas_bawah = Q1 - 1.5 * IQR\n",
    "batas_atas = Q3 + 1.5 * IQR\n",
    "\n",
    "df_clean = df_clean[(df_clean['Age'] >= batas_bawah) & (df_clean['Age'] <= batas_atas)]\n",
    "\n"
   ]
  },
  {
   "cell_type": "code",
   "execution_count": 15,
   "id": "8d4f4dbc",
   "metadata": {},
   "outputs": [],
   "source": [
    "import numpy as np\n",
    "\n",
    "df['Fare_log'] = df['Fare'].apply(lambda x: np.log1p(x))  \n"
   ]
  },
  {
   "cell_type": "markdown",
   "id": "da0e42fe",
   "metadata": {},
   "source": [
    "2.E"
   ]
  },
  {
   "cell_type": "code",
   "execution_count": 17,
   "id": "d7d14216",
   "metadata": {},
   "outputs": [
    {
     "name": "stdout",
     "output_type": "stream",
     "text": [
      "Jumlah missing value setelah perbaikan:\n",
      "PassengerId    0\n",
      "Survived       0\n",
      "Pclass         0\n",
      "Name           0\n",
      "Sex            0\n",
      "Age            0\n",
      "SibSp          0\n",
      "Parch          0\n",
      "Ticket         0\n",
      "Fare           0\n",
      "Cabin          0\n",
      "Embarked       0\n",
      "Fare_log       0\n",
      "dtype: int64\n"
     ]
    },
    {
     "name": "stderr",
     "output_type": "stream",
     "text": [
      "C:\\Users\\ASUS\\AppData\\Local\\Temp\\ipykernel_13912\\250359052.py:2: FutureWarning: A value is trying to be set on a copy of a DataFrame or Series through chained assignment using an inplace method.\n",
      "The behavior will change in pandas 3.0. This inplace method will never work because the intermediate object on which we are setting values always behaves as a copy.\n",
      "\n",
      "For example, when doing 'df[col].method(value, inplace=True)', try using 'df.method({col: value}, inplace=True)' or df[col] = df[col].method(value) instead, to perform the operation inplace on the original object.\n",
      "\n",
      "\n",
      "  df['Age'].fillna(rata_rata_umur, inplace=True)\n",
      "C:\\Users\\ASUS\\AppData\\Local\\Temp\\ipykernel_13912\\250359052.py:6: FutureWarning: A value is trying to be set on a copy of a DataFrame or Series through chained assignment using an inplace method.\n",
      "The behavior will change in pandas 3.0. This inplace method will never work because the intermediate object on which we are setting values always behaves as a copy.\n",
      "\n",
      "For example, when doing 'df[col].method(value, inplace=True)', try using 'df.method({col: value}, inplace=True)' or df[col] = df[col].method(value) instead, to perform the operation inplace on the original object.\n",
      "\n",
      "\n",
      "  df['Embarked'].fillna(modus_embarked, inplace=True)\n",
      "C:\\Users\\ASUS\\AppData\\Local\\Temp\\ipykernel_13912\\250359052.py:9: FutureWarning: A value is trying to be set on a copy of a DataFrame or Series through chained assignment using an inplace method.\n",
      "The behavior will change in pandas 3.0. This inplace method will never work because the intermediate object on which we are setting values always behaves as a copy.\n",
      "\n",
      "For example, when doing 'df[col].method(value, inplace=True)', try using 'df.method({col: value}, inplace=True)' or df[col] = df[col].method(value) instead, to perform the operation inplace on the original object.\n",
      "\n",
      "\n",
      "  df['Cabin'].fillna('Unknown', inplace=True)\n"
     ]
    }
   ],
   "source": [
    "\n",
    "# Mengisi missing value pada kolom 'Age' dengan rata-rata umur\n",
    "df['Age'].fillna(rata_rata_umur, inplace=True)\n",
    "\n",
    "# Mengisi missing value pada kolom 'Embarked' dengan modus (nilai yang paling sering muncul)\n",
    "modus_embarked = df['Embarked'].mode()[0]\n",
    "df['Embarked'].fillna(modus_embarked, inplace=True)\n",
    "\n",
    "# Mengisi missing value pada kolom 'Cabin' dengan string 'Unknown'\n",
    "df['Cabin'].fillna('Unknown', inplace=True)\n",
    "\n",
    "# Menampilkan jumlah missing value setelah perbaikan\n",
    "missing_values_after = df.isnull().sum()\n",
    "print(\"Jumlah missing value setelah perbaikan:\")\n",
    "print(missing_values_after)"
   ]
  },
  {
   "cell_type": "markdown",
   "id": "01b25af8",
   "metadata": {},
   "source": [
    "3.A"
   ]
  },
  {
   "cell_type": "markdown",
   "id": "2d54eae7",
   "metadata": {},
   "source": [
    "Dalam proses machine learning, data perlu dibagi menjadi dua bagian utama, yaitu data training dan data testing. Data training digunakan untuk melatih model agar dapat mengenali pola-pola yang terdapat dalam data, sedangkan data testing digunakan untuk menguji performa model terhadap data yang belum pernah dilihat sebelumnya. Pembagian ini dilakukan untuk memastikan bahwa model yang dibangun tidak hanya bagus pada data pelatihan, tetapi juga mampu bekerja dengan baik saat dihadapkan pada data baru.\n",
    "\n",
    "Proses pembagian biasanya dilakukan secara acak, dengan proporsi umum seperti 70% untuk data training dan 30% untuk data testing, atau 80% untuk training dan 20% untuk testing. Hal ini bertujuan untuk menjaga keseimbangan antara jumlah data yang cukup untuk pelatihan dan cukup juga untuk pengujian.\n",
    "\n",
    "Alasan utama mengapa data harus dibagi adalah untuk menghindari overfitting, yaitu kondisi di mana model terlalu menyesuaikan diri dengan data training sehingga tidak mampu menggeneralisasi ke data lain. Selain itu, pembagian ini juga penting untuk mengukur sejauh mana model mampu melakukan prediksi pada data yang belum dikenalnya, sehingga evaluasi performa model menjadi lebih objektif dan akurat."
   ]
  },
  {
   "cell_type": "markdown",
   "id": "f8a23bb3",
   "metadata": {},
   "source": [
    "3.B"
   ]
  },
  {
   "cell_type": "markdown",
   "id": "96679fcb",
   "metadata": {},
   "source": [
    "Dalam studi kasus prediksi kelangsungan hidup penumpang kapal Titanic, data dibagi menjadi dua bagian utama, yaitu 80% data training dan 20% data testing. Proporsi ini dipilih karena memberikan jumlah data pelatihan yang cukup besar untuk memungkinkan model mempelajari pola-pola kompleks dalam data, namun tetap menyisakan bagian data testing yang representatif untuk mengevaluasi performa model secara objektif.\n",
    "\n",
    "Dataset Titanic mengandung informasi seperti usia penumpang, jenis kelamin, kelas tiket, jumlah anggota keluarga yang ikut, dan sebagainya, yang kemudian digunakan untuk memprediksi apakah seorang penumpang selamat atau tidak. Dengan membagi data menjadi 80% untuk pelatihan, model memiliki akses terhadap mayoritas data sehingga dapat mempelajari hubungan antara fitur-fitur tersebut dengan target prediksi secara lebih mendalam.\n",
    "\n",
    "Sementara itu, 20% data testing digunakan untuk mengukur kemampuan generalisasi model, yaitu kemampuannya dalam melakukan prediksi pada data baru yang belum pernah dilihat sebelumnya. Pembagian ini juga membantu menghindari overfitting, yakni kondisi di mana model terlalu “hafal” data pelatihan namun tidak mampu beradaptasi dengan data nyata.\n",
    "\n",
    "Dengan demikian, pembagian data sebesar 80:20 dalam studi kasus Titanic memberikan keseimbangan antara pembelajaran yang optimal dan evaluasi yang objektif, sehingga model yang dihasilkan lebih andal dan akurat saat digunakan dalam situasi dunia nyata.\n",
    "\n"
   ]
  },
  {
   "cell_type": "markdown",
   "id": "0b2426a7",
   "metadata": {},
   "source": [
    "3.C"
   ]
  },
  {
   "cell_type": "code",
   "execution_count": 16,
   "id": "eb6b4d2b",
   "metadata": {},
   "outputs": [
    {
     "name": "stdout",
     "output_type": "stream",
     "text": [
      "   Sex  Embarked\n",
      "0    0         2\n",
      "1    1         0\n",
      "2    1         2\n",
      "3    1         2\n",
      "4    0         2\n",
      "Akurasi Klasifikasi: 0.8089887640449438\n",
      "Laporan Klasifikasi:\n",
      "               precision    recall  f1-score   support\n",
      "\n",
      "           0       0.80      0.90      0.85       105\n",
      "           1       0.83      0.67      0.74        73\n",
      "\n",
      "    accuracy                           0.81       178\n",
      "   macro avg       0.81      0.79      0.80       178\n",
      "weighted avg       0.81      0.81      0.80       178\n",
      "\n"
     ]
    }
   ],
   "source": [
    "from sklearn.discriminant_analysis import StandardScaler\n",
    "\n",
    "\n",
    "data = pd.read_csv(\"Titanic-Dataset.csv\")\n",
    "\n",
    "\n",
    "data['Age'] = data['Age'].fillna(np.mean(data['Age']))\n",
    "data.dropna(subset=['Embarked'], inplace=True)\n",
    "data.drop('Cabin', axis=1, inplace=True)\n",
    "data['Sex'] = data['Sex'].map({'male': 0, 'female': 1})\n",
    "\n",
    "embarked_mapping = {'C': 0, 'Q': 1, 'S': 2}\n",
    "data['Embarked'] = data['Embarked'].map(embarked_mapping)\n",
    "\n",
    "print(data[['Sex', 'Embarked']].head())\n",
    "Features = data.drop(columns=[\"PassengerId\", \"Survived\", \"Name\", \"Ticket\"])\n",
    "Goal = data[\"Survived\"]\n",
    "Features = StandardScaler().fit_transform(Features)\n",
    "Features = pd.DataFrame(Features)\n",
    "Features.columns=[\"pclass\",\"Sex\", \"Age\",\"SibSp\",\"Parch\",\"Fare\",\"Embarked\"]\n",
    "X_train, X_test, Y_train, Y_test = train_test_split(Features, Goal, test_size= 0.2, random_state=1)\n",
    "\n",
    "knn = KNeighborsClassifier(n_neighbors=7)\n",
    "knn.fit(X_train, Y_train)\n",
    "y_pred_knn = knn.predict(X_test)\n",
    "accuracy_knn = accuracy_score(Y_test, y_pred_knn)\n",
    "report_knn =  classification_report(Y_test, y_pred_knn)\n",
    "\n",
    "print(\"Akurasi Klasifikasi:\", accuracy_knn)\n",
    "print(\"Laporan Klasifikasi:\\n\", report_knn)"
   ]
  },
  {
   "cell_type": "code",
   "execution_count": 17,
   "id": "c87316b7",
   "metadata": {},
   "outputs": [
    {
     "name": "stdout",
     "output_type": "stream",
     "text": [
      "Confusion Matrix:\n",
      " [[95 10]\n",
      " [24 49]]\n"
     ]
    },
    {
     "data": {
      "text/plain": [
       "<Axes: >"
      ]
     },
     "execution_count": 17,
     "metadata": {},
     "output_type": "execute_result"
    },
    {
     "data": {
      "image/png": "[encoded data removed]",
      "text/plain": [
       "<Figure size 640x480 with 2 Axes>"
      ]
     },
     "metadata": {},
     "output_type": "display_data"
    }
   ],
   "source": [
    "CM_knn = confusion_matrix(Y_test, y_pred_knn)\n",
    "print(\"Confusion Matrix:\\n\", CM_knn)\n",
    "sns.heatmap(CM_knn, annot= True, cmap= 'Reds')"
   ]
  },
  {
   "cell_type": "markdown",
   "id": "0d761115",
   "metadata": {},
   "source": [
    "Model Logistic Regression\n",
    "Regresi logistik adalah algoritma machine learning untuk klasifikasi. Model ini menghitung probabilitas suatu data masuk ke dalam kelas tertentu. Algoritma ini bekerja dengan terlebih dahulu menghitung kombinasi linear dari fitur-fitur input, kemudian hasilnya dimasukkan ke dalam fungsi sigmoid. Fungsi sigmoid akan mengubah nilai tersebut menjadi angka antara 0 dan 1, yang diinterpretasikan sebagai probabilitas. Jika probabilitas lebih dari 0.5, maka data diklasifikasikan sebagai kelas 1, dan jika kurang dari atau sama dengan 0.5 maka diklasifikasikan sebagai kelas 0. Model ini belajar dengan menyesuaikan bobot (koefisien) melalui proses optimasi seperti gradient descent untuk meminimalkan kesalahan prediksi."
   ]
  },
  {
   "cell_type": "code",
   "execution_count": 18,
   "id": "561bfc50",
   "metadata": {},
   "outputs": [
    {
     "name": "stdout",
     "output_type": "stream",
     "text": [
      "Akurasi Klasifikasi: 0.8370786516853933\n",
      "Laporan Klasifikasi:\n",
      "               precision    recall  f1-score   support\n",
      "\n",
      "           0       0.86      0.87      0.86       105\n",
      "           1       0.81      0.79      0.80        73\n",
      "\n",
      "    accuracy                           0.84       178\n",
      "   macro avg       0.83      0.83      0.83       178\n",
      "weighted avg       0.84      0.84      0.84       178\n",
      "\n"
     ]
    }
   ],
   "source": [
    "pca = PCA(n_components=7)\n",
    "X_train_pca = pca.fit_transform(X_train)\n",
    "X_test_pca = pca.transform(X_test)\n",
    "\n",
    "model = LogisticRegression()\n",
    "model.fit(X_train_pca, Y_train)\n",
    "y_pred_LR = model.predict(X_test_pca)\n",
    "report_LR= classification_report(Y_test, y_pred_LR)\n",
    "\n",
    "accuracy_LR = accuracy_score(Y_test, y_pred_LR)\n",
    "print(\"Akurasi Klasifikasi:\", accuracy_LR)\n",
    "print(\"Laporan Klasifikasi:\\n\", report_LR)"
   ]
  },
  {
   "cell_type": "code",
   "execution_count": 19,
   "id": "fec04dde",
   "metadata": {},
   "outputs": [
    {
     "name": "stdout",
     "output_type": "stream",
     "text": [
      "Confusion Matrix:\n",
      " [[91 14]\n",
      " [15 58]]\n"
     ]
    },
    {
     "data": {
      "text/plain": [
       "<Axes: >"
      ]
     },
     "execution_count": 19,
     "metadata": {},
     "output_type": "execute_result"
    },
    {
     "data": {
      "image/png": "[encoded data removed]",
      "text/plain": [
       "<Figure size 640x480 with 2 Axes>"
      ]
     },
     "metadata": {},
     "output_type": "display_data"
    }
   ],
   "source": [
    "CM_LR = confusion_matrix(Y_test, y_pred_LR)\n",
    "print(\"Confusion Matrix:\\n\", CM_LR)\n",
    "sns.heatmap(CM_LR, annot= True, cmap= 'Reds')"
   ]
  },
  {
   "cell_type": "markdown",
   "id": "7c11418e",
   "metadata": {},
   "source": [
    "Model Neural Network\n",
    "\n",
    "Neural Network adalah algoritma pembelajaran mesin yang terinspirasi oleh cara kerja otak manusia, dengan struktur yang terdiri dari lapisan input, lapisan tersembunyi (hidden layers), dan lapisan output. Setiap neuron dihubungkan ke neuron lain dengan bobot yang dapat dipelajari. Input melalui neuron pertama akan diteruskan melalui jaringan, dan setiap bobot akan mempengaruhi hasil akhir. Output dihitung dengan melakukan operasi matematika (biasanya perkalian matriks) pada input dan bobot, kemudian melewati fungsi aktivasi untuk memperkenalkan non-linearitas.Proses pelatihan menggunakan metode seperti backpropagation untuk memperbarui bobot berdasarkan kesalahan prediksi."
   ]
  },
  {
   "cell_type": "code",
   "execution_count": 22,
   "id": "961f55e0",
   "metadata": {},
   "outputs": [
    {
     "name": "stdout",
     "output_type": "stream",
     "text": [
      "Akurasi Klasifikasi: 0.8314606741573034\n",
      "Laporan Klasifikasi:\n",
      "               precision    recall  f1-score   support\n",
      "\n",
      "           0       0.81      0.93      0.87       105\n",
      "           1       0.88      0.68      0.77        73\n",
      "\n",
      "    accuracy                           0.83       178\n",
      "   macro avg       0.84      0.81      0.82       178\n",
      "weighted avg       0.84      0.83      0.83       178\n",
      "\n"
     ]
    }
   ],
   "source": [
    "mlp = MLPClassifier(hidden_layer_sizes=(6, 4), max_iter=1000, alpha=0.01, random_state=42)\n",
    "mlp.fit(X_train, Y_train)\n",
    "Y_pred_MLP = mlp.predict(X_test)\n",
    "report_MLP = classification_report(Y_test, Y_pred_MLP)\n",
    "\n",
    "accuracy_MLP = accuracy_score(Y_test, Y_pred_MLP)\n",
    "print(\"Akurasi Klasifikasi:\", accuracy_MLP)\n",
    "print(\"Laporan Klasifikasi:\\n\", report_MLP)"
   ]
  },
  {
   "cell_type": "code",
   "execution_count": 24,
   "id": "e39c1195",
   "metadata": {},
   "outputs": [
    {
     "name": "stdout",
     "output_type": "stream",
     "text": [
      "Confusion Matrix:\n",
      " [[98  7]\n",
      " [23 50]]\n"
     ]
    },
    {
     "data": {
      "image/png": "[encoded data removed]",
      "text/plain": [
       "<Figure size 640x480 with 2 Axes>"
      ]
     },
     "metadata": {},
     "output_type": "display_data"
    }
   ],
   "source": [
    "CM_MLP = confusion_matrix(Y_test, Y_pred_MLP)\n",
    "print(\"Confusion Matrix:\\n\", CM_MLP)\n",
    "sns.heatmap(CM_MLP, annot=True, cmap='Reds')\n",
    "plt.show()"
   ]
  },
  {
   "cell_type": "markdown",
   "id": "db1ab7dd",
   "metadata": {},
   "source": [
    "3.D"
   ]
  },
  {
   "cell_type": "code",
   "execution_count": 25,
   "id": "05b89714",
   "metadata": {},
   "outputs": [
    {
     "name": "stdout",
     "output_type": "stream",
     "text": [
      "evaluasi model KNN: \n",
      "               precision    recall  f1-score   support\n",
      "\n",
      "           0       0.80      0.90      0.85       105\n",
      "           1       0.83      0.67      0.74        73\n",
      "\n",
      "    accuracy                           0.81       178\n",
      "   macro avg       0.81      0.79      0.80       178\n",
      "weighted avg       0.81      0.81      0.80       178\n",
      "\n",
      "evaluasi model regresi logistik: \n",
      "               precision    recall  f1-score   support\n",
      "\n",
      "           0       0.86      0.87      0.86       105\n",
      "           1       0.81      0.79      0.80        73\n",
      "\n",
      "    accuracy                           0.84       178\n",
      "   macro avg       0.83      0.83      0.83       178\n",
      "weighted avg       0.84      0.84      0.84       178\n",
      "\n",
      "evaluasi model Neural Network: \n",
      "               precision    recall  f1-score   support\n",
      "\n",
      "           0       0.81      0.93      0.87       105\n",
      "           1       0.88      0.68      0.77        73\n",
      "\n",
      "    accuracy                           0.83       178\n",
      "   macro avg       0.84      0.81      0.82       178\n",
      "weighted avg       0.84      0.83      0.83       178\n",
      "\n"
     ]
    }
   ],
   "source": [
    "print(f\"evaluasi model KNN: \\n {report_knn}\")\n",
    "print(f\"evaluasi model regresi logistik: \\n {report_LR}\")\n",
    "print(f\"evaluasi model Neural Network: \\n {report_MLP}\")"
   ]
  },
  {
   "cell_type": "markdown",
   "id": "60f5a30d",
   "metadata": {},
   "source": [
    "Metrik-metrik evaluasi :\n",
    "\n",
    "Akurasi (Accuracy): Persentase prediksi yang benar dari total data.\n",
    "Precision: Proporsi prediksi positif yang benar dari semua prediksi positif.\n",
    "Recall (Sensitivity atau True Positive Rate): Proporsi data positif yang benar-benar terdeteksi sebagai positif.\n",
    "F1-Score: Rata-rata harmonis antara Precision dan Recall."
   ]
  },
  {
   "cell_type": "markdown",
   "id": "c6a5ed8f",
   "metadata": {},
   "source": [
    "3.E"
   ]
  },
  {
   "cell_type": "markdown",
   "id": "721db3f2",
   "metadata": {},
   "source": [
    "Regresi logistik memiliki accuracy tertinggi (84%), dan nilai precision, recall, serta f1-score yang stabil di antara kelas 0 dan 1. Ini menunjukkan bahwa model ini cukup konsisten dalam memprediksi kedua kelas, tidak terlalu bias ke salah satu."
   ]
  },
  {
   "cell_type": "markdown",
   "id": "2c5f7dd3",
   "metadata": {},
   "source": [
    "4.A"
   ]
  },
  {
   "cell_type": "code",
   "execution_count": 26,
   "id": "02528cb7",
   "metadata": {},
   "outputs": [
    {
     "name": "stdout",
     "output_type": "stream",
     "text": [
      "Akurasi Klasifikasi: 0.8370786516853933\n",
      "Laporan Klasifikasi:\n",
      "               precision    recall  f1-score   support\n",
      "\n",
      "           0       0.86      0.87      0.86       105\n",
      "           1       0.81      0.79      0.80        73\n",
      "\n",
      "    accuracy                           0.84       178\n",
      "   macro avg       0.83      0.83      0.83       178\n",
      "weighted avg       0.84      0.84      0.84       178\n",
      "\n"
     ]
    }
   ],
   "source": [
    "print(\"Akurasi Klasifikasi:\", accuracy_LR)\n",
    "print(\"Laporan Klasifikasi:\\n\", report_LR)"
   ]
  },
  {
   "cell_type": "markdown",
   "id": "90706ae2",
   "metadata": {},
   "source": [
    "Berdasarkan laporan diatas\n",
    "\n",
    "Precision untuk penumpang selamat adalah 0.86\n",
    "Recall untuk penumpang selamat adalah 0.73"
   ]
  },
  {
   "cell_type": "markdown",
   "id": "3513d124",
   "metadata": {},
   "source": [
    "4.B"
   ]
  },
  {
   "cell_type": "code",
   "execution_count": 27,
   "id": "6128e144",
   "metadata": {},
   "outputs": [
    {
     "name": "stdout",
     "output_type": "stream",
     "text": [
      "Jumlah penumpang yang diprediksi selamat: 72\n",
      "Jumlah di antaranya yang benar-benar selamat: 58\n"
     ]
    }
   ],
   "source": [
    "# Jumlah yang diprediksi selamat (prediksi = 1)\n",
    "jumlah_prediksi_selamat = np.sum(y_pred_LR == 1)\n",
    "\n",
    "# Jumlah yang benar-benar selamat di antara prediksi = 1\n",
    "jumlah_benar_selamat = np.sum((y_pred_LR == 1) & (Y_test == 1))\n",
    "\n",
    "print(f\"Jumlah penumpang yang diprediksi selamat: {jumlah_prediksi_selamat}\")\n",
    "print(f\"Jumlah di antaranya yang benar-benar selamat: {jumlah_benar_selamat}\")"
   ]
  }
 ],
 "metadata": {
  "kernelspec": {
   "display_name": "Python 3",
   "language": "python",
   "name": "python3"
  },
  "language_info": {
   "codemirror_mode": {
    "name": "ipython",
    "version": 3
   },
   "file_extension": ".py",
   "mimetype": "text/x-python",
   "name": "python",
   "nbconvert_exporter": "python",
   "pygments_lexer": "ipython3",
   "version": "3.12.10"
  }
 },
 "nbformat": 4,
 "nbformat_minor": 5
}
